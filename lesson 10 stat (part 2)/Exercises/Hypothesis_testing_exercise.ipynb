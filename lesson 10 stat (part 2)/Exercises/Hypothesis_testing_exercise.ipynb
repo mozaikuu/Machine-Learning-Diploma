{
 "cells": [
  {
   "cell_type": "markdown",
   "metadata": {
    "id": "ITqrvAqq8xSC"
   },
   "source": [
    "## Learning objectives\n",
    "\n",
    "By the end of this train, you should be able to:\n",
    "* Calculate a test statistic.\n",
    "* Determine critical values based on a chosen significance level.\n",
    "* Make a decision on whether to reject the null hypothesis."
   ]
  },
  {
   "cell_type": "markdown",
   "metadata": {},
   "source": [
    "## Exercises\n",
    "\n",
    "Given a population where the average weight of a species of butterfly is believed to be 150 mg with a standard deviation of 20 mg, you collect a sample of 30 butterflies and find their average weight to be 145 mg. Use a 5% significance level to test the hypothesis that the population mean weight is 150 mg against the alternative hypothesis that it is not 150 mg (determining whether the observed average weight of the sample of butterflies significantly deviates from the presumed population average weight).\n",
    "\n",
    "In the exercises below, we will develop different functions, each responsible for a specific part of the hypothesis-testing process."
   ]
  },
  {
   "cell_type": "markdown",
   "metadata": {},
   "source": [
    "### Import libraries and dataset"
   ]
  },
  {
   "cell_type": "code",
   "execution_count": 30,
   "metadata": {},
   "outputs": [],
   "source": [
    "from scipy.stats import norm"
   ]
  },
  {
   "cell_type": "markdown",
   "metadata": {},
   "source": [
    "### Exercise 1\n",
    "\n",
    "State the null and alternative hypotheses."
   ]
  },
  {
   "cell_type": "code",
   "execution_count": 31,
   "metadata": {},
   "outputs": [],
   "source": [
    "# Your solution here...\n",
    "#h0 = 150\n",
    "#h1 < h0"
   ]
  },
  {
   "cell_type": "markdown",
   "metadata": {},
   "source": [
    "### Exercise 2\n",
    "\n",
    "Write a function that calculates the test statistic (z-value) based on the sample mean, population mean, population standard deviation, and sample size.\n",
    "\n",
    "The test statistic can be calculated using the formula for a one-sample z-test:\n",
    "\n",
    "> z = (x̄ - μ) / (σ / √n)\n",
    "\n",
    "where:\n",
    "\n",
    "- `x̄` is the sample mean.\n",
    "- `μ` is the population mean under the null hypothesis.\n",
    "- `σ` is the population standard deviation.\n",
    "- `n` is the sample size."
   ]
  },
  {
   "cell_type": "code",
   "execution_count": 32,
   "metadata": {},
   "outputs": [
    {
     "name": "stdout",
     "output_type": "stream",
     "text": [
      "Z value:  -1.3693063937629153\n"
     ]
    }
   ],
   "source": [
    "# Your solution here...\n",
    "bf_weight = 150 \n",
    "sample_mean = 145 # sample mean\n",
    "bf_std = 20 # standard deviation\n",
    "sample_size = 30 \n",
    "\n",
    "\n",
    "pop_mean = 150 #hypothesis\n",
    "def calculate_z_value(sample_mean, pop_mean, bf_std, sample_size):\n",
    "    z = (sample_mean - pop_mean) / (bf_std / (sample_size**0.5))\n",
    "    return z\n",
    "\n",
    "print(\"Z value: \", calculate_z_value(sample_mean, pop_mean, bf_std, sample_size))"
   ]
  },
  {
   "cell_type": "markdown",
   "metadata": {},
   "source": [
    "### Exercise 3\n",
    "\n",
    "Write a function that returns the lower and upper critical z-values for a two-sided test at a specific significance level."
   ]
  },
  {
   "cell_type": "code",
   "execution_count": 33,
   "metadata": {},
   "outputs": [
    {
     "name": "stdout",
     "output_type": "stream",
     "text": [
      "Lower critical z-value: -1.9599639845400545\n",
      "Upper critical z-value: 1.959963984540054\n"
     ]
    }
   ],
   "source": [
    "# Your solution here...\n",
    "significance = 0.05\n",
    "\n",
    "def calculate_critical_z_values(significance_level):\n",
    "    # Calculate the critical z-value for a two-sided test\n",
    "    # For a two-sided test, we divide the significance level by 2\n",
    "    # The lower critical value is the quantile at alpha/2\n",
    "    # The upper critical value is the quantile at 1 - alpha/2\n",
    "    lower_critical = norm.ppf(significance_level / 2)\n",
    "    upper_critical = norm.ppf(1 - significance_level / 2)\n",
    "    \n",
    "    return lower_critical, upper_critical\n",
    "\n",
    "lower_z, upper_z = calculate_critical_z_values(0.05)\n",
    "print(f\"Lower critical z-value: {lower_z}\")\n",
    "print(f\"Upper critical z-value: {upper_z}\")"
   ]
  },
  {
   "cell_type": "markdown",
   "metadata": {},
   "source": [
    "### Exercise 4\n",
    "\n",
    "Write a function which makes a decision on whether to reject or not reject the null hypothesis based on the test statistic and critical values."
   ]
  },
  {
   "cell_type": "code",
   "execution_count": 34,
   "metadata": {},
   "outputs": [],
   "source": [
    "# Your solution here...\n",
    "def decide_null_hypothesis(z, lower_z, upper_z):\n",
    "    if z < lower_z or z > upper_z:\n",
    "        print(\"Reject the null hypothesis\")\n",
    "    else:\n",
    "        print(\"Fail to reject the null hypothesis\")\n",
    "# since the z value is less than the lower critical z value, we reject the null hypothesis"
   ]
  },
  {
   "cell_type": "markdown",
   "metadata": {},
   "source": [
    "### Exercise 5\n",
    "\n",
    "Run the following code that puts together all the functions we have created in the previous exercises to perform the hypothesis test for the given butterfly population data.\n",
    "\n",
    "> What does our decision mean in the context of the butterfly population?"
   ]
  },
  {
   "cell_type": "code",
   "execution_count": 35,
   "metadata": {},
   "outputs": [
    {
     "name": "stdout",
     "output_type": "stream",
     "text": [
      "Fail to reject the null hypothesis\n",
      "Test Statistic (z-value): -1.3693063937629153\n",
      "Critical z-value (lower): -1.9599639845400545, Upper: 1.959963984540054\n",
      "Decision: None\n"
     ]
    }
   ],
   "source": [
    "# Given data\n",
    "sample_mean = 145  # sample mean weight in mg\n",
    "population_mean = 150  # hypothesised population mean weight in mg\n",
    "population_std = 20  # population standard deviation in mg\n",
    "n = 30  # sample size\n",
    "alpha = 0.05  # significance level\n",
    "\n",
    "# Calculate the z-value\n",
    "z = calculate_z_value(sample_mean, population_mean, population_std, n)\n",
    "\n",
    "# Get critical z-values\n",
    "lower_z, upper_z = calculate_critical_z_values(alpha)\n",
    "\n",
    "# Make a decision\n",
    "decision = decide_null_hypothesis(z, lower_z, upper_z)\n",
    "\n",
    "print(f\"Test Statistic (z-value): {z}\")\n",
    "print(f\"Critical z-value (lower): {lower_z}, Upper: {upper_z}\")\n",
    "print(f\"Decision: {decision}\")"
   ]
  },
  {
   "cell_type": "markdown",
   "metadata": {},
   "source": []
  }
 ],
 "metadata": {
  "colab": {
   "authorship_tag": "ABX9TyPZFCZhaikX+N2/Bg7W6SY+",
   "collapsed_sections": [],
   "name": "Search_algorithms.ipynb",
   "provenance": [],
   "toc_visible": true
  },
  "interpreter": {
   "hash": "6b5ebbc2c6bde2831bc6c0426f75aca8137ccfc69d329557556ed73faee126ae"
  },
  "kernelspec": {
   "display_name": "Python 3 (ipykernel)",
   "language": "python",
   "name": "python3"
  },
  "language_info": {
   "codemirror_mode": {
    "name": "ipython",
    "version": 3
   },
   "file_extension": ".py",
   "mimetype": "text/x-python",
   "name": "python",
   "nbconvert_exporter": "python",
   "pygments_lexer": "ipython3",
   "version": "3.12.1"
  }
 },
 "nbformat": 4,
 "nbformat_minor": 2
}
