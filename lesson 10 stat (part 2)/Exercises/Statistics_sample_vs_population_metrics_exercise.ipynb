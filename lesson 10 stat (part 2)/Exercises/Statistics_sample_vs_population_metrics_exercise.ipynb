{
 "cells": [
  {
   "cell_type": "markdown",
   "id": "f662d169",
   "metadata": {},
   "source": [
    "# Exercise: Statistics – sample vs population metrics\n"
   ]
  },
  {
   "cell_type": "markdown",
   "id": "26af890c",
   "metadata": {},
   "source": [
    "In this notebook, we will present a series of code exercises that will test and enhance your understanding of sample and population metrics, the central limit theorem (CLT), and confidence intervals."
   ]
  },
  {
   "cell_type": "markdown",
   "id": "2d230d14",
   "metadata": {
    "tags": []
   },
   "source": [
    "## Learning objectives\n",
    "\n",
    "By the end of this notebook, you should be able to:\n",
    "- Differentiate between sample and population metrics.\n",
    "- Understand where the central limit theorem is utilised.\n",
    "- Describe the function and measurement of confidence intervals."
   ]
  },
  {
   "cell_type": "markdown",
   "id": "de45a481",
   "metadata": {},
   "source": [
    "## Exercises\n",
    "\n",
    "Suppose we are data scientists working for an environmental organisation. Our task is to analyse data related to forest areas across different regions to help formulate conservation strategies. The dataset includes forest areas (in square kilometres) from over 1,000 regions worldwide."
   ]
  },
  {
   "cell_type": "markdown",
   "id": "5a0b7683",
   "metadata": {
    "tags": []
   },
   "source": [
    "### Exercise 1\n",
    "\n",
    "We are working with a dataset that contains information about different species found in national parks around the world. The dataset includes data on the number of individual animals of each species found in these parks.\n",
    "\n",
    "Task: Calculate the population mean (`population_mean`) and variance (`population_variance`) of the species count."
   ]
  },
  {
   "cell_type": "code",
   "execution_count": 1,
   "id": "c2ee76ec",
   "metadata": {},
   "outputs": [
    {
     "name": "stdout",
     "output_type": "stream",
     "text": [
      "sample:  [ 699 1095 5484 2027 3497 4047 3210 4176 3607 7405 7704 8510 9236 7430\n",
      " 9660 5772  997 3790 5235 2211 1159 6888 1571 8818 1023 5717 8908 3724\n",
      " 3837 7934 3966 5062 1327 6737 3456 5602 2776 7395 1351 1173 8204 7322\n",
      " 5060 3780 3327 2844 9720 7782 1940  665  722 3397 7014 4248 8973 9794\n",
      " 5772 8929 1071 4308 7596 6219 9388 9614 7984  937 5846 6127 8204 9816\n",
      " 5528  875 9089 8409 9141 8563 2347 9129 5497 1908 9859 9200 9269 3191\n",
      " 6408  875 3919 7526 3210 2937 4422 1669 5603 2638 7863 6196 5220 3044\n",
      " 5717 1191 5235 9389 3489 5541 4215 2008 2887 7427 7521 5497 7113 3724\n",
      " 1473 6226 1214 6672 2515 8470 7896 8543 6120 5631  562 3966 7362 7874\n",
      " 9732 2438 4471 1564 5303 8856 8312 3919 5772  631 6181 3883 7959 6181\n",
      " 8388 8866 1571 8099 2240 4469 7968 9845 1652 1106 9390 4412  873 7421\n",
      "  743 5152 5649 6824 9552 2568 1791 5846 9799 1741 5894 5868 7134 3171\n",
      " 1327 1403  665 8818 7511 1327 9614 2338 3793 7840 6746 1236  829 2027\n",
      " 2231  665 7637 9911 9859 3457 7906 9297 1401 4599 9065 7952 5223 9764\n",
      " 7704 8904 1112 2155]\n",
      "population mean:  5378.98\n",
      "sample mean:  5236.91\n",
      "population mean handmade:  5378.98 \n",
      "\n",
      "population std:  2743.166674667255\n",
      "sample std:  2936.220145339923\n",
      "population std handmade:  2741.794748262534 \n",
      "\n",
      "population variance:  7524963.405005004\n",
      "sample variance:  8621388.741899999\n",
      "population variance handmade:  7517438.4416000135 \n",
      "\n"
     ]
    }
   ],
   "source": [
    "import matplotlib.pyplot as plt\n",
    "import pandas as pd\n",
    "import numpy as np\n",
    "\n",
    "# Generating random data. Fixed seed for reproducibility\n",
    "np.random.seed(0)\n",
    "forest_areas = np.random.randint(500, 10000, size=1000)  # Forest areas in sq km\n",
    "regions = ['Region' + str(i) for i in range(1, 1001)]\n",
    "\n",
    "# Creating a dictionary\n",
    "data = {'Region': regions, 'Forest_Area': forest_areas}\n",
    "\n",
    "# Converting to a pandas DataFrame\n",
    "df = pd.DataFrame(data)\n",
    "\n",
    "# insert code here\n",
    "sample = np.random.choice(df['Forest_Area'], 200)\n",
    "\n",
    "pop_mean = df['Forest_Area'].mean()\n",
    "sample_mean = sample.mean()\n",
    "\n",
    "pop_var = df['Forest_Area'].var()\n",
    "sample_var = sample.var()\n",
    "\n",
    "print('sample: ', sample)\n",
    "\n",
    "print('population mean: ', pop_mean)\n",
    "print('sample mean: ', sample_mean)\n",
    "\n",
    "# how it is calculated is add everything and divide by number\n",
    "mean = 0\n",
    "for i in df['Forest_Area']:\n",
    "    mean += i\n",
    "mean = mean / len(df['Forest_Area'])\n",
    "print('population mean handmade: ', mean, \"\\n\")\n",
    "\n",
    "\n",
    "print('population std: ', df['Forest_Area'].std())\n",
    "print('sample std: ', sample.std())\n",
    "\n",
    "std_dev = 0\n",
    "for i in df['Forest_Area']:\n",
    "    std_dev += (i - mean) ** 2\n",
    "std_dev = np.sqrt(std_dev / len(df['Forest_Area']))\n",
    "print('population std handmade: ', std_dev, \"\\n\")\n",
    "\n",
    "print('population variance: ', pop_var)\n",
    "print('sample variance: ', sample_var)\n",
    "\n",
    "var = 0\n",
    "for i in df['Forest_Area']:\n",
    "    var += (i - mean) ** 2\n",
    "var = var / len(df['Forest_Area'])\n",
    "print('population variance handmade: ', var, \"\\n\")\n",
    "\n",
    "# Q1 why do we root in std deviation?\n",
    "# Q2 in this code we are using .std() for both pop and sample but the sample should be n-1 in the formula root mean square / n?\n",
    "# Q3 std deviation vs variance\n",
    "# Q4 variance handmade is different from variance (probably python stuff trying to save space or smthn and i should use float idk will ask still)\n",
    "\n"
   ]
  },
  {
   "cell_type": "markdown",
   "id": "dc9b7dc6",
   "metadata": {},
   "source": [
    "### Exercise 2\n",
    "\n",
    "Select a random sample of 30 regions from the dataset and calculate sample mean and variance. Compare these with population metrics."
   ]
  },
  {
   "cell_type": "code",
   "execution_count": 2,
   "id": "ae48fab0",
   "metadata": {},
   "outputs": [
    {
     "name": "stdout",
     "output_type": "stream",
     "text": [
      "population mean:  5378.98\n",
      "sample mean:  5236.91 \n",
      "\n",
      "population std:  2743.166674667255\n",
      "sample std:  2724.6216585467832 \n",
      "\n",
      "population variance:  7524963.405005004\n",
      "sample variance:  8621388.741899999\n"
     ]
    }
   ],
   "source": [
    "# insert code here\n",
    "np.random.seed(0)\n",
    "sample = np.random.choice(df['Forest_Area'], 30)\n",
    "print('population mean: ', pop_mean)\n",
    "print('sample mean: ', sample_mean, \"\\n\")\n",
    "print('population std: ', df['Forest_Area'].std())\n",
    "print('sample std: ', sample.std(), \"\\n\")\n",
    "print('population variance: ', pop_var)\n",
    "print('sample variance: ', sample_var)\n",
    "\n",
    "# when do say the data is enough and that the sample is a good representative of the population\n",
    "# does sample size scale with population size? 10:100 100:1000 2000:20000 a fixed percentage or a fixed number of samples"
   ]
  },
  {
   "cell_type": "markdown",
   "id": "07ab1a9d",
   "metadata": {},
   "source": [
    "### Exercise 3\n",
    "\n",
    "Demonstrate the central limit theorem (CLT) by plotting the distribution of sample means."
   ]
  },
  {
   "cell_type": "code",
   "execution_count": 3,
   "id": "3a13735c",
   "metadata": {},
   "outputs": [
    {
     "data": {
      "image/png": "[encoded data removed]",
      "text/plain": [
       "<Figure size 640x480 with 1 Axes>"
      ]
     },
     "metadata": {},
     "output_type": "display_data"
    }
   ],
   "source": [
    "# insert code here\n",
    "# Step 1: Generate a population with a non-normal distribution\n",
    "population = df['Forest_Area']\n",
    "\n",
    "# sample = np.random.choice(population, 200)\n",
    "np.random.seed(0)\n",
    "# Step 2: Draw multiple samples from this population\n",
    "sample_size = 30\n",
    "num_samples = 200\n",
    "samples = [np.random.choice(population, size=sample_size) for _ in range(num_samples)]\n",
    "\n",
    "# Step 3: Calculate the mean of each sample\n",
    "sample_means = [np.mean(sample) for sample in samples]\n",
    "\n",
    "# Step 4: Plot the distribution of these sample means\n",
    "plt.hist(sample_means, bins=30, density=True) \n",
    "plt.xlabel('Sample Means')\n",
    "plt.ylabel('Frequency')\n",
    "plt.title('Demonstration of the Central Limit Theorem')\n",
    "plt.show()\n",
    "\n",
    "# Q5 why cant sample size be 1\n",
    "# Q6 no idea why im doing this / in this way"
   ]
  },
  {
   "cell_type": "markdown",
   "id": "4a247050",
   "metadata": {},
   "source": [
    "### Exercise 4\n",
    "\n",
    "Calculate a 95% confidence interval for the mean of a sample."
   ]
  },
  {
   "cell_type": "markdown",
   "id": "47638744",
   "metadata": {},
   "source": []
  },
  {
   "cell_type": "code",
   "execution_count": 4,
   "id": "c7edcc97",
   "metadata": {},
   "outputs": [
    {
     "name": "stdout",
     "output_type": "stream",
     "text": [
      "The 95% confidence interval is (3572.083669445489, 5641.649663887845)\n"
     ]
    }
   ],
   "source": [
    "import numpy as np\n",
    "import scipy.stats as stats\n",
    "\n",
    "np.random.seed(0)\n",
    "# Assume we have a sample\n",
    "sample = np.random.choice(df['Forest_Area'], 30)\n",
    "\n",
    "# Calculate the sample mean and standard error\n",
    "sample_mean = np.mean(sample)\n",
    "se = stats.sem(sample)\n",
    "\n",
    "# Calculate the 95% confidence interval\n",
    "confidence = 0.95\n",
    "ci = stats.t.interval(confidence, len(sample)-1, loc=sample_mean, scale=se)\n",
    "\n",
    "print(f\"The 95% confidence interval is {ci}\")\n",
    "\n",
    "#Q7 no idea what this is"
   ]
  }
 ],
 "metadata": {
  "kernelspec": {
   "display_name": "Python 3 (ipykernel)",
   "language": "python",
   "name": "python3"
  },
  "language_info": {
   "codemirror_mode": {
    "name": "ipython",
    "version": 3
   },
   "file_extension": ".py",
   "mimetype": "text/x-python",
   "name": "python",
   "nbconvert_exporter": "python",
   "pygments_lexer": "ipython3",
   "version": "3.12.1"
  }
 },
 "nbformat": 4,
 "nbformat_minor": 5
}
