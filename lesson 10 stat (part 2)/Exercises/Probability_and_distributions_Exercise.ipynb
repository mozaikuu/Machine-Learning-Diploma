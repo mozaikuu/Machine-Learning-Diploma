{
 "cells": [
  {
   "cell_type": "markdown",
   "id": "f662d169",
   "metadata": {},
   "source": [
    "# Exercise: Probability and distributions"
   ]
  },
  {
   "cell_type": "markdown",
   "id": "26af890c",
   "metadata": {},
   "source": [
    "In this exercise, we test our understanding of statistical concepts, probability, and different types of distributions that can be used to analyse data using the stats package script in Python.\n",
    "\n"
   ]
  },
  {
   "cell_type": "markdown",
   "id": "2d230d14",
   "metadata": {
    "tags": []
   },
   "source": [
    "## Learning objectives\n",
    "\n",
    "In this train, we will learn:\n",
    "- Understand how to calculate basic statistical measures in Python.\n",
    "- Learn how to calculate different probability distributions using the Scipy library.\n",
    "- Apply statistical methods in Python to solve real-world scenarios."
   ]
  },
  {
   "cell_type": "markdown",
   "id": "de45a481",
   "metadata": {},
   "source": [
    "## Exercises"
   ]
  },
  {
   "cell_type": "markdown",
   "id": "5a0b7683",
   "metadata": {
    "tags": []
   },
   "source": [
    "### Exercise 1\n",
    "\n",
    "Given a 1D Numpy array `temperatures` representing the daily average temperatures (in degrees Celsius) of a month, write a Python function named `describe_temperatures` that returns the mean, median, and standard deviation of the temperatures.\n"
   ]
  },
  {
   "cell_type": "code",
   "execution_count": 1,
   "metadata": {},
   "outputs": [],
   "source": [
    "import numpy as np\n",
    "\n",
    "temperatures = np.array([22, 25, 19, 21, 24, 28, 23, 20])"
   ]
  },
  {
   "cell_type": "code",
   "execution_count": 4,
   "id": "c2ee76ec",
   "metadata": {},
   "outputs": [
    {
     "name": "stdout",
     "output_type": "stream",
     "text": [
      "(22.75, 22.5, 2.7271780286589284)\n"
     ]
    }
   ],
   "source": [
    "def describe_temperatures(temperatures):\n",
    "    # insert code here\n",
    "    temp_mean = np.mean(temperatures)\n",
    "    temp_median = np.median(temperatures)\n",
    "    temp_std_dev = np.std(temperatures)\n",
    "    return temp_mean, temp_median, temp_std_dev\n",
    "\n",
    "print(describe_temperatures(temperatures))"
   ]
  },
  {
   "cell_type": "markdown",
   "id": "dc9b7dc6",
   "metadata": {},
   "source": [
    "### Exercise 2\n",
    "\n",
    "Write a Python snippet that calculates the probability of observing a rare bird species at least once in a week in a national park, given the daily observation probability is 0.1. Use the binomial distribution from `scipy.stats`.\n"
   ]
  },
  {
   "cell_type": "code",
   "execution_count": 9,
   "id": "ae48fab0",
   "metadata": {},
   "outputs": [
    {
     "name": "stdout",
     "output_type": "stream",
     "text": [
      "0.5217031000000001\n"
     ]
    }
   ],
   "source": [
    "from scipy.stats import binom\n",
    "\n",
    "n = 7  # Number of days in a week\n",
    "p = 0.1  # Daily observation probability\n",
    "\n",
    "# insert code here\n",
    "# shouldn't it be 0.7?  idk \n",
    "chance = 1 - binom.cdf(0, n, p)\n",
    "# idk what i did here and why\n",
    "print(chance)"
   ]
  },
  {
   "cell_type": "markdown",
   "metadata": {},
   "source": [
    "### Exercise 3\n",
    "\n",
    "Consider a discrete random variable `X`, which denotes the number of households in a neighbourhood that recycle out of 10 households. Assume that the recycling behaviours of the households are independent of each other and follow a binomial distribution, with each household having a fixed probability of 0.75 on deciding to recycle. Write a Python code snippet that calculates and plots the probability mass function (PMF) of `X`."
   ]
  },
  {
   "cell_type": "code",
   "execution_count": 11,
   "metadata": {},
   "outputs": [
    {
     "name": "stdout",
     "output_type": "stream",
     "text": [
      "0.9999990463256836\n"
     ]
    }
   ],
   "source": [
    "import matplotlib.pyplot as plt\n",
    "from scipy.stats import binom\n",
    "\n",
    "n = 10  # Number of households\n",
    "p = 0.75  # Probability of a household recycling\n",
    "\n",
    "# insert code here\n",
    "\n",
    "chance = 1 - binom.pmf(0, n, p)\n",
    "\n",
    "print(chance)"
   ]
  },
  {
   "cell_type": "markdown",
   "metadata": {},
   "source": [
    "### Exercise 4\n",
    "\n",
    "Model the time between discoveries of new species in a rainforest using an exponential distribution with a mean discovery rate of 0.3 species per year. Write a Python snippet that calculates the probability of discovering a new species within the next 2 years.\n"
   ]
  },
  {
   "cell_type": "code",
   "execution_count": 13,
   "metadata": {},
   "outputs": [
    {
     "name": "stdout",
     "output_type": "stream",
     "text": [
      "1.0\n"
     ]
    }
   ],
   "source": [
    "from scipy.stats import expon\n",
    "\n",
    "rate = 0.3  # Mean discovery rate\n",
    "time_period = 2  # Time period in years\n",
    "\n",
    "# insert code here\n",
    "chance = 1 - expon.cdf(0, scale = 1/rate)\n",
    "\n",
    "print(chance)"
   ]
  },
  {
   "cell_type": "markdown",
   "metadata": {},
   "source": [
    "### Exercise 5\n",
    "\n",
    "Given the `flow_rates` of daily river flow rates (in cubic metres per second), assumed to follow a normal distribution, write a Python function to calculate the probability of the flow rate exceeding a specific value (e.g. flood risk assessment).\n"
   ]
  },
  {
   "cell_type": "code",
   "execution_count": 18,
   "metadata": {},
   "outputs": [],
   "source": [
    "from scipy.stats import norm\n",
    "\n",
    "flow_rates = np.array([450, 500, 550, 600, 650, 700, 750, 800, 850, 900]) # Example data for a year\n",
    "threshold = 700\n",
    "\n",
    "def flood_risk_probability(flow_rates, threshold):\n",
    "    # insert code here\n",
    "    fr_mean = np.mean(flow_rates)\n",
    "    fr_std = np.std(flow_rates)\n",
    "    chance = 1 - norm.cdf(threshold, fr_mean, fr_std)\n",
    "    return chance"
   ]
  },
  {
   "cell_type": "code",
   "execution_count": 19,
   "id": "416b2da4",
   "metadata": {},
   "outputs": [
    {
     "name": "stdout",
     "output_type": "stream",
     "text": [
      "0.43090221652450544\n"
     ]
    }
   ],
   "source": [
    "print(flood_risk_probability(flow_rates, threshold))"
   ]
  }
 ],
 "metadata": {
  "kernelspec": {
   "display_name": "Python 3 (ipykernel)",
   "language": "python",
   "name": "python3"
  },
  "language_info": {
   "codemirror_mode": {
    "name": "ipython",
    "version": 3
   },
   "file_extension": ".py",
   "mimetype": "text/x-python",
   "name": "python",
   "nbconvert_exporter": "python",
   "pygments_lexer": "ipython3",
   "version": "3.12.1"
  }
 },
 "nbformat": 4,
 "nbformat_minor": 5
}
